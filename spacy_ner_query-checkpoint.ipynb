{
 "cells": [
  {
   "cell_type": "code",
   "execution_count": 1,
   "metadata": {},
   "outputs": [],
   "source": [
    "import spacy"
   ]
  },
  {
   "cell_type": "code",
   "execution_count": 2,
   "metadata": {},
   "outputs": [],
   "source": [
    "m = spacy.load('en_core_web_sm')"
   ]
  },
  {
   "cell_type": "code",
   "execution_count": 3,
   "metadata": {},
   "outputs": [],
   "source": [
    "example = \"UK Officials are meeting with the UN members\"\n",
    "doc=m(example)"
   ]
  },
  {
   "cell_type": "code",
   "execution_count": 4,
   "metadata": {},
   "outputs": [
    {
     "name": "stdout",
     "output_type": "stream",
     "text": [
      "UK GPE\n",
      "UN ORG\n"
     ]
    }
   ],
   "source": [
    "for ent in doc.ents:\n",
    "    print(ent.text, ent.label_)"
   ]
  },
  {
   "cell_type": "code",
   "execution_count": 6,
   "metadata": {},
   "outputs": [],
   "source": [
    "def print_ner(doc):\n",
    "    for ent in doc.ents:\n",
    "        print(ent.text,ent.label_)"
   ]
  },
  {
   "cell_type": "code",
   "execution_count": 7,
   "metadata": {},
   "outputs": [],
   "source": [
    "ganges = \"The Ganges is a trans boundary river of Asia which flows through India and Bangladesh. The 2,784 KM (1680 mi) river originates from the Gangotri Glacier of western Himalayas in the Indian state of Uttarakhand, and flows south and east through the Gangetic plain of India and Bangladesh, eventually emptying into the Bay of Bengal\""
   ]
  },
  {
   "cell_type": "code",
   "execution_count": 8,
   "metadata": {},
   "outputs": [],
   "source": [
    "doc_ganges=m(ganges)"
   ]
  },
  {
   "cell_type": "code",
   "execution_count": 9,
   "metadata": {},
   "outputs": [
    {
     "name": "stdout",
     "output_type": "stream",
     "text": [
      "Ganges PERSON\n",
      "Asia LOC\n",
      "India GPE\n",
      "Bangladesh GPE\n",
      "2,784 KM QUANTITY\n",
      "1680 mi QUANTITY\n",
      "the Gangotri Glacier LOC\n",
      "Himalayas GPE\n",
      "Indian NORP\n",
      "Uttarakhand GPE\n",
      "Gangetic LOC\n",
      "India GPE\n",
      "Bangladesh GPE\n",
      "the Bay of Bengal LOC\n"
     ]
    }
   ],
   "source": [
    "print_ner(doc_ganges)"
   ]
  },
  {
   "cell_type": "code",
   "execution_count": 10,
   "metadata": {},
   "outputs": [],
   "source": [
    "liberty = \"The copper statue, a gift from the people of France to the people of the United States, was designed by French sculptor Frédéric Auguste Bartholdi and its metal framework was built by Gustave Eiffel.\""
   ]
  },
  {
   "cell_type": "code",
   "execution_count": 11,
   "metadata": {},
   "outputs": [],
   "source": [
    "doc_liberty=m(liberty)"
   ]
  },
  {
   "cell_type": "code",
   "execution_count": 12,
   "metadata": {},
   "outputs": [
    {
     "name": "stdout",
     "output_type": "stream",
     "text": [
      "France GPE\n",
      "the United States GPE\n",
      "French NORP\n",
      "Frédéric Auguste Bartholdi PERSON\n",
      "Gustave Eiffel PERSON\n"
     ]
    }
   ],
   "source": [
    "print_ner(doc_liberty)"
   ]
  },
  {
   "cell_type": "code",
   "execution_count": 13,
   "metadata": {},
   "outputs": [],
   "source": [
    "locs = [('Taj Mahal','IN', 'Agra'),('Jal Mahal','IN','Jaipur'),('Jodha Palace','IN','Jaipur'),('Meharanghar Fort','IN','Jodhpur')]"
   ]
  },
  {
   "cell_type": "code",
   "execution_count": 14,
   "metadata": {},
   "outputs": [],
   "source": [
    "query = [e1 for(e1,rel,e2) in locs if e2=='Jaipur']"
   ]
  },
  {
   "cell_type": "code",
   "execution_count": 15,
   "metadata": {},
   "outputs": [
    {
     "data": {
      "text/plain": [
       "['Jal Mahal', 'Jodha Palace']"
      ]
     },
     "execution_count": 15,
     "metadata": {},
     "output_type": "execute_result"
    }
   ],
   "source": [
    "query"
   ]
  },
  {
   "cell_type": "code",
   "execution_count": null,
   "metadata": {},
   "outputs": [],
   "source": []
  }
 ],
 "metadata": {
  "kernelspec": {
   "display_name": "Python 3",
   "language": "python",
   "name": "python3"
  },
  "language_info": {
   "codemirror_mode": {
    "name": "ipython",
    "version": 3
   },
   "file_extension": ".py",
   "mimetype": "text/x-python",
   "name": "python",
   "nbconvert_exporter": "python",
   "pygments_lexer": "ipython3",
   "version": "3.8.3"
  }
 },
 "nbformat": 4,
 "nbformat_minor": 4
}
